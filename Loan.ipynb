{
 "cells": [
  {
   "cell_type": "markdown",
   "id": "27ac7dae",
   "metadata": {},
   "source": [
    "*What is a loan prediction system?*               \n",
    "A mechanism called the Loan Prediction System allows you to apply for loans and receive notifications when they are approved. By the data provided by the applicant, the system notifies the applicant of the loan's availability.   \n",
    "\n",
    "#LoadId = Unique Id   \n",
    "#Gender = Male/Female    \n",
    "#Married = Yes/No    \n",
    "#Dependents = 0/1 (if there are dependent on the applicants eg- child, spouse, parents)    \n",
    "#Education = Graduate/Not Graduate   \n",
    "#Self_Employed = No/Yes.   \n",
    "#ApplicantIncome = how much the applicant earn \n",
    "#CoapplicantIncome = how much the coapplicant from family earn \n",
    "#LoanAmount = how much loan is approved  \n",
    "#Loan_Amount_term = how long is the loan given for in Days  \n",
    "#Credit_history = credit history of the applicant   \n",
    "#Property_Area = Urban/Rural/Semiurban   \n",
    "#Loan_Status = is the loan approved - this is the dependent feature"
   ]
  },
  {
   "cell_type": "code",
   "execution_count": 224,
   "id": "d34cfdee",
   "metadata": {},
   "outputs": [],
   "source": [
    "import pandas as pd\n",
    "import numpy as np\n",
    "import matplotlib.pyplot as plt\n",
    "import seaborn as sbn\n",
    "\n",
    "data_set = pd.read_csv(\"loan.csv\")\n"
   ]
  },
  {
   "cell_type": "markdown",
   "id": "7f139db9",
   "metadata": {},
   "source": [
    "### Display top 10 records in the Dataset"
   ]
  },
  {
   "cell_type": "code",
   "execution_count": 225,
   "id": "fcb09671",
   "metadata": {},
   "outputs": [
    {
     "data": {
      "text/html": [
       "<div>\n",
       "<style scoped>\n",
       "    .dataframe tbody tr th:only-of-type {\n",
       "        vertical-align: middle;\n",
       "    }\n",
       "\n",
       "    .dataframe tbody tr th {\n",
       "        vertical-align: top;\n",
       "    }\n",
       "\n",
       "    .dataframe thead th {\n",
       "        text-align: right;\n",
       "    }\n",
       "</style>\n",
       "<table border=\"1\" class=\"dataframe\">\n",
       "  <thead>\n",
       "    <tr style=\"text-align: right;\">\n",
       "      <th></th>\n",
       "      <th>Loan_ID</th>\n",
       "      <th>Gender</th>\n",
       "      <th>Married</th>\n",
       "      <th>Dependents</th>\n",
       "      <th>Education</th>\n",
       "      <th>Self_Employed</th>\n",
       "      <th>ApplicantIncome</th>\n",
       "      <th>CoapplicantIncome</th>\n",
       "      <th>LoanAmount</th>\n",
       "      <th>Loan_Amount_Term</th>\n",
       "      <th>Credit_History</th>\n",
       "      <th>Property_Area</th>\n",
       "      <th>Loan_Status</th>\n",
       "    </tr>\n",
       "  </thead>\n",
       "  <tbody>\n",
       "    <tr>\n",
       "      <th>0</th>\n",
       "      <td>LP001002</td>\n",
       "      <td>Male</td>\n",
       "      <td>No</td>\n",
       "      <td>0</td>\n",
       "      <td>Graduate</td>\n",
       "      <td>No</td>\n",
       "      <td>5849</td>\n",
       "      <td>0.0</td>\n",
       "      <td>NaN</td>\n",
       "      <td>360.0</td>\n",
       "      <td>1.0</td>\n",
       "      <td>Urban</td>\n",
       "      <td>Y</td>\n",
       "    </tr>\n",
       "    <tr>\n",
       "      <th>1</th>\n",
       "      <td>LP001003</td>\n",
       "      <td>Male</td>\n",
       "      <td>Yes</td>\n",
       "      <td>1</td>\n",
       "      <td>Graduate</td>\n",
       "      <td>No</td>\n",
       "      <td>4583</td>\n",
       "      <td>1508.0</td>\n",
       "      <td>128.0</td>\n",
       "      <td>360.0</td>\n",
       "      <td>1.0</td>\n",
       "      <td>Rural</td>\n",
       "      <td>N</td>\n",
       "    </tr>\n",
       "    <tr>\n",
       "      <th>2</th>\n",
       "      <td>LP001005</td>\n",
       "      <td>Male</td>\n",
       "      <td>Yes</td>\n",
       "      <td>0</td>\n",
       "      <td>Graduate</td>\n",
       "      <td>Yes</td>\n",
       "      <td>3000</td>\n",
       "      <td>0.0</td>\n",
       "      <td>66.0</td>\n",
       "      <td>360.0</td>\n",
       "      <td>1.0</td>\n",
       "      <td>Urban</td>\n",
       "      <td>Y</td>\n",
       "    </tr>\n",
       "    <tr>\n",
       "      <th>3</th>\n",
       "      <td>LP001006</td>\n",
       "      <td>Male</td>\n",
       "      <td>Yes</td>\n",
       "      <td>0</td>\n",
       "      <td>Not Graduate</td>\n",
       "      <td>No</td>\n",
       "      <td>2583</td>\n",
       "      <td>2358.0</td>\n",
       "      <td>120.0</td>\n",
       "      <td>360.0</td>\n",
       "      <td>1.0</td>\n",
       "      <td>Urban</td>\n",
       "      <td>Y</td>\n",
       "    </tr>\n",
       "    <tr>\n",
       "      <th>4</th>\n",
       "      <td>LP001008</td>\n",
       "      <td>Male</td>\n",
       "      <td>No</td>\n",
       "      <td>0</td>\n",
       "      <td>Graduate</td>\n",
       "      <td>No</td>\n",
       "      <td>6000</td>\n",
       "      <td>0.0</td>\n",
       "      <td>141.0</td>\n",
       "      <td>360.0</td>\n",
       "      <td>1.0</td>\n",
       "      <td>Urban</td>\n",
       "      <td>Y</td>\n",
       "    </tr>\n",
       "    <tr>\n",
       "      <th>5</th>\n",
       "      <td>LP001011</td>\n",
       "      <td>Male</td>\n",
       "      <td>Yes</td>\n",
       "      <td>2</td>\n",
       "      <td>Graduate</td>\n",
       "      <td>Yes</td>\n",
       "      <td>5417</td>\n",
       "      <td>4196.0</td>\n",
       "      <td>267.0</td>\n",
       "      <td>360.0</td>\n",
       "      <td>1.0</td>\n",
       "      <td>Urban</td>\n",
       "      <td>Y</td>\n",
       "    </tr>\n",
       "    <tr>\n",
       "      <th>6</th>\n",
       "      <td>LP001013</td>\n",
       "      <td>Male</td>\n",
       "      <td>Yes</td>\n",
       "      <td>0</td>\n",
       "      <td>Not Graduate</td>\n",
       "      <td>No</td>\n",
       "      <td>2333</td>\n",
       "      <td>1516.0</td>\n",
       "      <td>95.0</td>\n",
       "      <td>360.0</td>\n",
       "      <td>1.0</td>\n",
       "      <td>Urban</td>\n",
       "      <td>Y</td>\n",
       "    </tr>\n",
       "    <tr>\n",
       "      <th>7</th>\n",
       "      <td>LP001014</td>\n",
       "      <td>Male</td>\n",
       "      <td>Yes</td>\n",
       "      <td>3+</td>\n",
       "      <td>Graduate</td>\n",
       "      <td>No</td>\n",
       "      <td>3036</td>\n",
       "      <td>2504.0</td>\n",
       "      <td>158.0</td>\n",
       "      <td>360.0</td>\n",
       "      <td>0.0</td>\n",
       "      <td>Semiurban</td>\n",
       "      <td>N</td>\n",
       "    </tr>\n",
       "    <tr>\n",
       "      <th>8</th>\n",
       "      <td>LP001018</td>\n",
       "      <td>Male</td>\n",
       "      <td>Yes</td>\n",
       "      <td>2</td>\n",
       "      <td>Graduate</td>\n",
       "      <td>No</td>\n",
       "      <td>4006</td>\n",
       "      <td>1526.0</td>\n",
       "      <td>168.0</td>\n",
       "      <td>360.0</td>\n",
       "      <td>1.0</td>\n",
       "      <td>Urban</td>\n",
       "      <td>Y</td>\n",
       "    </tr>\n",
       "    <tr>\n",
       "      <th>9</th>\n",
       "      <td>LP001020</td>\n",
       "      <td>Male</td>\n",
       "      <td>Yes</td>\n",
       "      <td>1</td>\n",
       "      <td>Graduate</td>\n",
       "      <td>No</td>\n",
       "      <td>12841</td>\n",
       "      <td>10968.0</td>\n",
       "      <td>349.0</td>\n",
       "      <td>360.0</td>\n",
       "      <td>1.0</td>\n",
       "      <td>Semiurban</td>\n",
       "      <td>N</td>\n",
       "    </tr>\n",
       "  </tbody>\n",
       "</table>\n",
       "</div>"
      ],
      "text/plain": [
       "    Loan_ID Gender Married Dependents     Education Self_Employed  \\\n",
       "0  LP001002   Male      No          0      Graduate            No   \n",
       "1  LP001003   Male     Yes          1      Graduate            No   \n",
       "2  LP001005   Male     Yes          0      Graduate           Yes   \n",
       "3  LP001006   Male     Yes          0  Not Graduate            No   \n",
       "4  LP001008   Male      No          0      Graduate            No   \n",
       "5  LP001011   Male     Yes          2      Graduate           Yes   \n",
       "6  LP001013   Male     Yes          0  Not Graduate            No   \n",
       "7  LP001014   Male     Yes         3+      Graduate            No   \n",
       "8  LP001018   Male     Yes          2      Graduate            No   \n",
       "9  LP001020   Male     Yes          1      Graduate            No   \n",
       "\n",
       "   ApplicantIncome  CoapplicantIncome  LoanAmount  Loan_Amount_Term  \\\n",
       "0             5849                0.0         NaN             360.0   \n",
       "1             4583             1508.0       128.0             360.0   \n",
       "2             3000                0.0        66.0             360.0   \n",
       "3             2583             2358.0       120.0             360.0   \n",
       "4             6000                0.0       141.0             360.0   \n",
       "5             5417             4196.0       267.0             360.0   \n",
       "6             2333             1516.0        95.0             360.0   \n",
       "7             3036             2504.0       158.0             360.0   \n",
       "8             4006             1526.0       168.0             360.0   \n",
       "9            12841            10968.0       349.0             360.0   \n",
       "\n",
       "   Credit_History Property_Area Loan_Status  \n",
       "0             1.0         Urban           Y  \n",
       "1             1.0         Rural           N  \n",
       "2             1.0         Urban           Y  \n",
       "3             1.0         Urban           Y  \n",
       "4             1.0         Urban           Y  \n",
       "5             1.0         Urban           Y  \n",
       "6             1.0         Urban           Y  \n",
       "7             0.0     Semiurban           N  \n",
       "8             1.0         Urban           Y  \n",
       "9             1.0     Semiurban           N  "
      ]
     },
     "execution_count": 225,
     "metadata": {},
     "output_type": "execute_result"
    }
   ],
   "source": [
    "data_set.head(10)"
   ]
  },
  {
   "cell_type": "markdown",
   "id": "73a6f9a7",
   "metadata": {},
   "source": [
    "### Find the number of rows and columns of the Dataset "
   ]
  },
  {
   "cell_type": "code",
   "execution_count": 226,
   "id": "181a4d84",
   "metadata": {},
   "outputs": [
    {
     "data": {
      "text/plain": [
       "(614, 13)"
      ]
     },
     "execution_count": 226,
     "metadata": {},
     "output_type": "execute_result"
    }
   ],
   "source": [
    "data_set.shape"
   ]
  },
  {
   "cell_type": "markdown",
   "id": "9bedba9f",
   "metadata": {},
   "source": [
    "### Display the information about the column values"
   ]
  },
  {
   "cell_type": "code",
   "execution_count": 227,
   "id": "a1992ed0",
   "metadata": {},
   "outputs": [
    {
     "name": "stdout",
     "output_type": "stream",
     "text": [
      "<class 'pandas.core.frame.DataFrame'>\n",
      "RangeIndex: 614 entries, 0 to 613\n",
      "Data columns (total 13 columns):\n",
      " #   Column             Non-Null Count  Dtype  \n",
      "---  ------             --------------  -----  \n",
      " 0   Loan_ID            614 non-null    object \n",
      " 1   Gender             601 non-null    object \n",
      " 2   Married            611 non-null    object \n",
      " 3   Dependents         599 non-null    object \n",
      " 4   Education          614 non-null    object \n",
      " 5   Self_Employed      582 non-null    object \n",
      " 6   ApplicantIncome    614 non-null    int64  \n",
      " 7   CoapplicantIncome  614 non-null    float64\n",
      " 8   LoanAmount         592 non-null    float64\n",
      " 9   Loan_Amount_Term   600 non-null    float64\n",
      " 10  Credit_History     564 non-null    float64\n",
      " 11  Property_Area      614 non-null    object \n",
      " 12  Loan_Status        614 non-null    object \n",
      "dtypes: float64(4), int64(1), object(8)\n",
      "memory usage: 62.5+ KB\n"
     ]
    }
   ],
   "source": [
    "data_set.info()"
   ]
  },
  {
   "cell_type": "markdown",
   "id": "e5bba8fe",
   "metadata": {},
   "source": [
    "#### Observations \n",
    "- There are Object, Float and int type data which means we will have to handle these types separately.  \n",
    "- There are missing values in some columns.  \n",
    "- No cardianity observed. \n",
    "- Loan_ID is unique ID and should be droped. "
   ]
  },
  {
   "cell_type": "code",
   "execution_count": 228,
   "id": "c1376c4d",
   "metadata": {},
   "outputs": [],
   "source": [
    "data_set = data_set.drop('Loan_ID', axis=1)"
   ]
  },
  {
   "cell_type": "code",
   "execution_count": 229,
   "id": "1bac2bae",
   "metadata": {},
   "outputs": [
    {
     "data": {
      "text/html": [
       "<div>\n",
       "<style scoped>\n",
       "    .dataframe tbody tr th:only-of-type {\n",
       "        vertical-align: middle;\n",
       "    }\n",
       "\n",
       "    .dataframe tbody tr th {\n",
       "        vertical-align: top;\n",
       "    }\n",
       "\n",
       "    .dataframe thead th {\n",
       "        text-align: right;\n",
       "    }\n",
       "</style>\n",
       "<table border=\"1\" class=\"dataframe\">\n",
       "  <thead>\n",
       "    <tr style=\"text-align: right;\">\n",
       "      <th></th>\n",
       "      <th>ApplicantIncome</th>\n",
       "      <th>CoapplicantIncome</th>\n",
       "      <th>LoanAmount</th>\n",
       "      <th>Loan_Amount_Term</th>\n",
       "      <th>Credit_History</th>\n",
       "    </tr>\n",
       "  </thead>\n",
       "  <tbody>\n",
       "    <tr>\n",
       "      <th>count</th>\n",
       "      <td>614.000000</td>\n",
       "      <td>614.000000</td>\n",
       "      <td>592.000000</td>\n",
       "      <td>600.00000</td>\n",
       "      <td>564.000000</td>\n",
       "    </tr>\n",
       "    <tr>\n",
       "      <th>mean</th>\n",
       "      <td>5403.459283</td>\n",
       "      <td>1621.245798</td>\n",
       "      <td>146.412162</td>\n",
       "      <td>342.00000</td>\n",
       "      <td>0.842199</td>\n",
       "    </tr>\n",
       "    <tr>\n",
       "      <th>std</th>\n",
       "      <td>6109.041673</td>\n",
       "      <td>2926.248369</td>\n",
       "      <td>85.587325</td>\n",
       "      <td>65.12041</td>\n",
       "      <td>0.364878</td>\n",
       "    </tr>\n",
       "    <tr>\n",
       "      <th>min</th>\n",
       "      <td>150.000000</td>\n",
       "      <td>0.000000</td>\n",
       "      <td>9.000000</td>\n",
       "      <td>12.00000</td>\n",
       "      <td>0.000000</td>\n",
       "    </tr>\n",
       "    <tr>\n",
       "      <th>25%</th>\n",
       "      <td>2877.500000</td>\n",
       "      <td>0.000000</td>\n",
       "      <td>100.000000</td>\n",
       "      <td>360.00000</td>\n",
       "      <td>1.000000</td>\n",
       "    </tr>\n",
       "    <tr>\n",
       "      <th>50%</th>\n",
       "      <td>3812.500000</td>\n",
       "      <td>1188.500000</td>\n",
       "      <td>128.000000</td>\n",
       "      <td>360.00000</td>\n",
       "      <td>1.000000</td>\n",
       "    </tr>\n",
       "    <tr>\n",
       "      <th>75%</th>\n",
       "      <td>5795.000000</td>\n",
       "      <td>2297.250000</td>\n",
       "      <td>168.000000</td>\n",
       "      <td>360.00000</td>\n",
       "      <td>1.000000</td>\n",
       "    </tr>\n",
       "    <tr>\n",
       "      <th>max</th>\n",
       "      <td>81000.000000</td>\n",
       "      <td>41667.000000</td>\n",
       "      <td>700.000000</td>\n",
       "      <td>480.00000</td>\n",
       "      <td>1.000000</td>\n",
       "    </tr>\n",
       "  </tbody>\n",
       "</table>\n",
       "</div>"
      ],
      "text/plain": [
       "       ApplicantIncome  CoapplicantIncome  LoanAmount  Loan_Amount_Term  \\\n",
       "count       614.000000         614.000000  592.000000         600.00000   \n",
       "mean       5403.459283        1621.245798  146.412162         342.00000   \n",
       "std        6109.041673        2926.248369   85.587325          65.12041   \n",
       "min         150.000000           0.000000    9.000000          12.00000   \n",
       "25%        2877.500000           0.000000  100.000000         360.00000   \n",
       "50%        3812.500000        1188.500000  128.000000         360.00000   \n",
       "75%        5795.000000        2297.250000  168.000000         360.00000   \n",
       "max       81000.000000       41667.000000  700.000000         480.00000   \n",
       "\n",
       "       Credit_History  \n",
       "count      564.000000  \n",
       "mean         0.842199  \n",
       "std          0.364878  \n",
       "min          0.000000  \n",
       "25%          1.000000  \n",
       "50%          1.000000  \n",
       "75%          1.000000  \n",
       "max          1.000000  "
      ]
     },
     "execution_count": 229,
     "metadata": {},
     "output_type": "execute_result"
    }
   ],
   "source": [
    "data_set.describe()"
   ]
  },
  {
   "cell_type": "markdown",
   "id": "1cc937cf",
   "metadata": {},
   "source": [
    "### Find the number of missing data in each column"
   ]
  },
  {
   "cell_type": "code",
   "execution_count": 230,
   "id": "ffd8ae02",
   "metadata": {},
   "outputs": [
    {
     "data": {
      "text/plain": [
       "Gender               13\n",
       "Married               3\n",
       "Dependents           15\n",
       "Education             0\n",
       "Self_Employed        32\n",
       "ApplicantIncome       0\n",
       "CoapplicantIncome     0\n",
       "LoanAmount           22\n",
       "Loan_Amount_Term     14\n",
       "Credit_History       50\n",
       "Property_Area         0\n",
       "Loan_Status           0\n",
       "dtype: int64"
      ]
     },
     "execution_count": 230,
     "metadata": {},
     "output_type": "execute_result"
    }
   ],
   "source": [
    "data_set.isnull().sum()"
   ]
  },
  {
   "cell_type": "markdown",
   "id": "b88704bf",
   "metadata": {},
   "source": [
    "### For the columns with missing data, check the distribution of the object values"
   ]
  },
  {
   "cell_type": "code",
   "execution_count": 231,
   "id": "4cb9e2b8",
   "metadata": {},
   "outputs": [],
   "source": [
    "def find_value_counts(column_name):\n",
    "    print(\"\\n**\" + column_name + \"**\")\n",
    "    print(data_set[column_name].value_counts())\n",
    "    "
   ]
  },
  {
   "cell_type": "code",
   "execution_count": 232,
   "id": "97cfa14f",
   "metadata": {},
   "outputs": [
    {
     "name": "stdout",
     "output_type": "stream",
     "text": [
      "\n",
      "**Gender**\n",
      "Male      489\n",
      "Female    112\n",
      "Name: Gender, dtype: int64\n",
      "\n",
      "**Married**\n",
      "Yes    398\n",
      "No     213\n",
      "Name: Married, dtype: int64\n",
      "\n",
      "**Dependents**\n",
      "0     345\n",
      "1     102\n",
      "2     101\n",
      "3+     51\n",
      "Name: Dependents, dtype: int64\n",
      "\n",
      "**Self_Employed**\n",
      "No     500\n",
      "Yes     82\n",
      "Name: Self_Employed, dtype: int64\n",
      "\n",
      "**Credit_History**\n",
      "1.0    475\n",
      "0.0     89\n",
      "Name: Credit_History, dtype: int64\n"
     ]
    }
   ],
   "source": [
    "find_value_counts('Gender')\n",
    "find_value_counts('Married')\n",
    "find_value_counts('Dependents')\n",
    "find_value_counts('Self_Employed')\n",
    "find_value_counts('Credit_History')"
   ]
  },
  {
   "cell_type": "markdown",
   "id": "c345111a",
   "metadata": {},
   "source": [
    "#### Observations \n",
    "- We can see that these categorical distributions are imbalanced hence we can fill the missing values with Mode. "
   ]
  },
  {
   "cell_type": "markdown",
   "id": "07def645",
   "metadata": {},
   "source": [
    "### Fill NaN categorical feature values with mode"
   ]
  },
  {
   "cell_type": "code",
   "execution_count": 233,
   "id": "a41e6017",
   "metadata": {},
   "outputs": [],
   "source": [
    "# Funtion to define - fill nan values with mode values of the column specified\n",
    "def fill_na_with_mode(column_name):\n",
    "    data_set[column_name] = data_set[column_name].fillna(data_set[column_name].mode()[0])\n",
    "    find_value_counts(column_name)"
   ]
  },
  {
   "cell_type": "code",
   "execution_count": 234,
   "id": "a9739420",
   "metadata": {},
   "outputs": [],
   "source": [
    "# Funtion to define - fill nan values with Mean values of the column specified\n",
    "\n",
    "def fill_na_with_mean(column_name):\n",
    "    data_set[column_name] = data_set[column_name].fillna(data_set[column_name].mean())\n",
    "    return print(\"null value:\", data_set[column_name].isnull().sum())"
   ]
  },
  {
   "cell_type": "code",
   "execution_count": 235,
   "id": "e435be4d",
   "metadata": {},
   "outputs": [
    {
     "name": "stdout",
     "output_type": "stream",
     "text": [
      "\n",
      "**Gender**\n",
      "Male      502\n",
      "Female    112\n",
      "Name: Gender, dtype: int64\n",
      "\n",
      "**Married**\n",
      "Yes    401\n",
      "No     213\n",
      "Name: Married, dtype: int64\n",
      "\n",
      "**Dependents**\n",
      "0     360\n",
      "1     102\n",
      "2     101\n",
      "3+     51\n",
      "Name: Dependents, dtype: int64\n",
      "\n",
      "**Self_Employed**\n",
      "No     532\n",
      "Yes     82\n",
      "Name: Self_Employed, dtype: int64\n",
      "\n",
      "**Credit_History**\n",
      "1.0    525\n",
      "0.0     89\n",
      "Name: Credit_History, dtype: int64\n"
     ]
    }
   ],
   "source": [
    "fill_na_with_mode('Gender')\n",
    "fill_na_with_mode('Married')\n",
    "fill_na_with_mode('Dependents')\n",
    "fill_na_with_mode('Self_Employed')\n",
    "fill_na_with_mode('Credit_History')\n"
   ]
  },
  {
   "cell_type": "markdown",
   "id": "da6c9063",
   "metadata": {},
   "source": [
    "### Now we have to fill the NaN for 2 float datatype features, LoanAmount and Loan_Amount_Term"
   ]
  },
  {
   "cell_type": "markdown",
   "id": "a64835a4",
   "metadata": {},
   "source": [
    "- We check the distribution for these columns. "
   ]
  },
  {
   "cell_type": "code",
   "execution_count": 236,
   "id": "e2922f16",
   "metadata": {},
   "outputs": [
    {
     "data": {
      "text/plain": [
       "<Axes: xlabel='LoanAmount', ylabel='Count'>"
      ]
     },
     "execution_count": 236,
     "metadata": {},
     "output_type": "execute_result"
    },
    {
     "data": {
      "image/png": "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\n",
      "text/plain": [
       "<Figure size 640x480 with 1 Axes>"
      ]
     },
     "metadata": {},
     "output_type": "display_data"
    }
   ],
   "source": [
    "sbn.histplot(data=data_set['LoanAmount'])"
   ]
  },
  {
   "cell_type": "code",
   "execution_count": 237,
   "id": "715a70cc",
   "metadata": {},
   "outputs": [
    {
     "data": {
      "text/plain": [
       "146.41216216216216"
      ]
     },
     "execution_count": 237,
     "metadata": {},
     "output_type": "execute_result"
    }
   ],
   "source": [
    "data_set['LoanAmount'].mean()"
   ]
  },
  {
   "cell_type": "code",
   "execution_count": 238,
   "id": "926d3749",
   "metadata": {},
   "outputs": [
    {
     "data": {
      "text/plain": [
       "<Axes: xlabel='Loan_Amount_Term', ylabel='Count'>"
      ]
     },
     "execution_count": 238,
     "metadata": {},
     "output_type": "execute_result"
    },
    {
     "data": {
      "image/png": "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\n",
      "text/plain": [
       "<Figure size 640x480 with 1 Axes>"
      ]
     },
     "metadata": {},
     "output_type": "display_data"
    }
   ],
   "source": [
    "sbn.histplot(data=data_set['Loan_Amount_Term'])"
   ]
  },
  {
   "cell_type": "code",
   "execution_count": 239,
   "id": "3c376cc1",
   "metadata": {},
   "outputs": [
    {
     "data": {
      "text/plain": [
       "360.0    512\n",
       "180.0     44\n",
       "480.0     15\n",
       "300.0     13\n",
       "240.0      4\n",
       "84.0       4\n",
       "120.0      3\n",
       "60.0       2\n",
       "36.0       2\n",
       "12.0       1\n",
       "Name: Loan_Amount_Term, dtype: int64"
      ]
     },
     "execution_count": 239,
     "metadata": {},
     "output_type": "execute_result"
    }
   ],
   "source": [
    "data_set['Loan_Amount_Term'].value_counts()"
   ]
  },
  {
   "cell_type": "markdown",
   "id": "c65fb5f7",
   "metadata": {},
   "source": [
    "#### Observation \n",
    "- For NAN values in LoanAmount column we can fill the Nan values with Mean\n",
    "- For Loan_Amount_Term, it's seen that the type are currently set as float but it can be of changed to int type and \n",
    "  can be determined as discreate feature values. Also, from the distribution we would like to replace the missing values with 360. ((( I will want to see the Nan relation with the dataset also)))"
   ]
  },
  {
   "cell_type": "markdown",
   "id": "e8e66b56",
   "metadata": {},
   "source": [
    "### Find the corelation "
   ]
  },
  {
   "cell_type": "code",
   "execution_count": 240,
   "id": "f9917afa",
   "metadata": {},
   "outputs": [
    {
     "data": {
      "text/html": [
       "<div>\n",
       "<style scoped>\n",
       "    .dataframe tbody tr th:only-of-type {\n",
       "        vertical-align: middle;\n",
       "    }\n",
       "\n",
       "    .dataframe tbody tr th {\n",
       "        vertical-align: top;\n",
       "    }\n",
       "\n",
       "    .dataframe thead th {\n",
       "        text-align: right;\n",
       "    }\n",
       "</style>\n",
       "<table border=\"1\" class=\"dataframe\">\n",
       "  <thead>\n",
       "    <tr style=\"text-align: right;\">\n",
       "      <th></th>\n",
       "      <th>Gender</th>\n",
       "      <th>Married</th>\n",
       "      <th>Dependents</th>\n",
       "      <th>Education</th>\n",
       "      <th>Self_Employed</th>\n",
       "      <th>ApplicantIncome</th>\n",
       "      <th>CoapplicantIncome</th>\n",
       "      <th>LoanAmount</th>\n",
       "      <th>Loan_Amount_Term</th>\n",
       "      <th>Credit_History</th>\n",
       "      <th>Property_Area</th>\n",
       "      <th>Loan_Status</th>\n",
       "    </tr>\n",
       "  </thead>\n",
       "  <tbody>\n",
       "    <tr>\n",
       "      <th>19</th>\n",
       "      <td>Male</td>\n",
       "      <td>Yes</td>\n",
       "      <td>0</td>\n",
       "      <td>Graduate</td>\n",
       "      <td>No</td>\n",
       "      <td>2600</td>\n",
       "      <td>3500.0</td>\n",
       "      <td>115.0</td>\n",
       "      <td>NaN</td>\n",
       "      <td>1.0</td>\n",
       "      <td>Urban</td>\n",
       "      <td>Y</td>\n",
       "    </tr>\n",
       "    <tr>\n",
       "      <th>36</th>\n",
       "      <td>Male</td>\n",
       "      <td>Yes</td>\n",
       "      <td>0</td>\n",
       "      <td>Graduate</td>\n",
       "      <td>No</td>\n",
       "      <td>1828</td>\n",
       "      <td>1330.0</td>\n",
       "      <td>100.0</td>\n",
       "      <td>NaN</td>\n",
       "      <td>0.0</td>\n",
       "      <td>Urban</td>\n",
       "      <td>N</td>\n",
       "    </tr>\n",
       "    <tr>\n",
       "      <th>44</th>\n",
       "      <td>Male</td>\n",
       "      <td>Yes</td>\n",
       "      <td>0</td>\n",
       "      <td>Not Graduate</td>\n",
       "      <td>Yes</td>\n",
       "      <td>4695</td>\n",
       "      <td>0.0</td>\n",
       "      <td>96.0</td>\n",
       "      <td>NaN</td>\n",
       "      <td>1.0</td>\n",
       "      <td>Urban</td>\n",
       "      <td>Y</td>\n",
       "    </tr>\n",
       "    <tr>\n",
       "      <th>45</th>\n",
       "      <td>Female</td>\n",
       "      <td>No</td>\n",
       "      <td>0</td>\n",
       "      <td>Graduate</td>\n",
       "      <td>No</td>\n",
       "      <td>3410</td>\n",
       "      <td>0.0</td>\n",
       "      <td>88.0</td>\n",
       "      <td>NaN</td>\n",
       "      <td>1.0</td>\n",
       "      <td>Urban</td>\n",
       "      <td>Y</td>\n",
       "    </tr>\n",
       "    <tr>\n",
       "      <th>73</th>\n",
       "      <td>Male</td>\n",
       "      <td>Yes</td>\n",
       "      <td>3+</td>\n",
       "      <td>Not Graduate</td>\n",
       "      <td>No</td>\n",
       "      <td>4755</td>\n",
       "      <td>0.0</td>\n",
       "      <td>95.0</td>\n",
       "      <td>NaN</td>\n",
       "      <td>0.0</td>\n",
       "      <td>Semiurban</td>\n",
       "      <td>N</td>\n",
       "    </tr>\n",
       "    <tr>\n",
       "      <th>112</th>\n",
       "      <td>Male</td>\n",
       "      <td>Yes</td>\n",
       "      <td>0</td>\n",
       "      <td>Not Graduate</td>\n",
       "      <td>No</td>\n",
       "      <td>3572</td>\n",
       "      <td>4114.0</td>\n",
       "      <td>152.0</td>\n",
       "      <td>NaN</td>\n",
       "      <td>0.0</td>\n",
       "      <td>Rural</td>\n",
       "      <td>N</td>\n",
       "    </tr>\n",
       "    <tr>\n",
       "      <th>165</th>\n",
       "      <td>Male</td>\n",
       "      <td>Yes</td>\n",
       "      <td>0</td>\n",
       "      <td>Graduate</td>\n",
       "      <td>No</td>\n",
       "      <td>3707</td>\n",
       "      <td>3166.0</td>\n",
       "      <td>182.0</td>\n",
       "      <td>NaN</td>\n",
       "      <td>1.0</td>\n",
       "      <td>Rural</td>\n",
       "      <td>Y</td>\n",
       "    </tr>\n",
       "    <tr>\n",
       "      <th>197</th>\n",
       "      <td>Female</td>\n",
       "      <td>No</td>\n",
       "      <td>0</td>\n",
       "      <td>Not Graduate</td>\n",
       "      <td>No</td>\n",
       "      <td>1907</td>\n",
       "      <td>2365.0</td>\n",
       "      <td>120.0</td>\n",
       "      <td>NaN</td>\n",
       "      <td>1.0</td>\n",
       "      <td>Urban</td>\n",
       "      <td>Y</td>\n",
       "    </tr>\n",
       "    <tr>\n",
       "      <th>223</th>\n",
       "      <td>Male</td>\n",
       "      <td>Yes</td>\n",
       "      <td>0</td>\n",
       "      <td>Graduate</td>\n",
       "      <td>No</td>\n",
       "      <td>7578</td>\n",
       "      <td>1010.0</td>\n",
       "      <td>175.0</td>\n",
       "      <td>NaN</td>\n",
       "      <td>1.0</td>\n",
       "      <td>Semiurban</td>\n",
       "      <td>Y</td>\n",
       "    </tr>\n",
       "    <tr>\n",
       "      <th>232</th>\n",
       "      <td>Male</td>\n",
       "      <td>No</td>\n",
       "      <td>0</td>\n",
       "      <td>Not Graduate</td>\n",
       "      <td>No</td>\n",
       "      <td>3189</td>\n",
       "      <td>2598.0</td>\n",
       "      <td>120.0</td>\n",
       "      <td>NaN</td>\n",
       "      <td>1.0</td>\n",
       "      <td>Rural</td>\n",
       "      <td>Y</td>\n",
       "    </tr>\n",
       "    <tr>\n",
       "      <th>335</th>\n",
       "      <td>Male</td>\n",
       "      <td>Yes</td>\n",
       "      <td>0</td>\n",
       "      <td>Graduate</td>\n",
       "      <td>Yes</td>\n",
       "      <td>5503</td>\n",
       "      <td>4490.0</td>\n",
       "      <td>70.0</td>\n",
       "      <td>NaN</td>\n",
       "      <td>1.0</td>\n",
       "      <td>Semiurban</td>\n",
       "      <td>Y</td>\n",
       "    </tr>\n",
       "    <tr>\n",
       "      <th>367</th>\n",
       "      <td>Male</td>\n",
       "      <td>No</td>\n",
       "      <td>0</td>\n",
       "      <td>Graduate</td>\n",
       "      <td>No</td>\n",
       "      <td>5124</td>\n",
       "      <td>0.0</td>\n",
       "      <td>124.0</td>\n",
       "      <td>NaN</td>\n",
       "      <td>0.0</td>\n",
       "      <td>Rural</td>\n",
       "      <td>N</td>\n",
       "    </tr>\n",
       "    <tr>\n",
       "      <th>421</th>\n",
       "      <td>Female</td>\n",
       "      <td>No</td>\n",
       "      <td>0</td>\n",
       "      <td>Not Graduate</td>\n",
       "      <td>No</td>\n",
       "      <td>2720</td>\n",
       "      <td>0.0</td>\n",
       "      <td>80.0</td>\n",
       "      <td>NaN</td>\n",
       "      <td>0.0</td>\n",
       "      <td>Urban</td>\n",
       "      <td>N</td>\n",
       "    </tr>\n",
       "    <tr>\n",
       "      <th>423</th>\n",
       "      <td>Male</td>\n",
       "      <td>Yes</td>\n",
       "      <td>1</td>\n",
       "      <td>Graduate</td>\n",
       "      <td>No</td>\n",
       "      <td>7250</td>\n",
       "      <td>1667.0</td>\n",
       "      <td>110.0</td>\n",
       "      <td>NaN</td>\n",
       "      <td>0.0</td>\n",
       "      <td>Urban</td>\n",
       "      <td>N</td>\n",
       "    </tr>\n",
       "  </tbody>\n",
       "</table>\n",
       "</div>"
      ],
      "text/plain": [
       "     Gender Married Dependents     Education Self_Employed  ApplicantIncome  \\\n",
       "19     Male     Yes          0      Graduate            No             2600   \n",
       "36     Male     Yes          0      Graduate            No             1828   \n",
       "44     Male     Yes          0  Not Graduate           Yes             4695   \n",
       "45   Female      No          0      Graduate            No             3410   \n",
       "73     Male     Yes         3+  Not Graduate            No             4755   \n",
       "112    Male     Yes          0  Not Graduate            No             3572   \n",
       "165    Male     Yes          0      Graduate            No             3707   \n",
       "197  Female      No          0  Not Graduate            No             1907   \n",
       "223    Male     Yes          0      Graduate            No             7578   \n",
       "232    Male      No          0  Not Graduate            No             3189   \n",
       "335    Male     Yes          0      Graduate           Yes             5503   \n",
       "367    Male      No          0      Graduate            No             5124   \n",
       "421  Female      No          0  Not Graduate            No             2720   \n",
       "423    Male     Yes          1      Graduate            No             7250   \n",
       "\n",
       "     CoapplicantIncome  LoanAmount  Loan_Amount_Term  Credit_History  \\\n",
       "19              3500.0       115.0               NaN             1.0   \n",
       "36              1330.0       100.0               NaN             0.0   \n",
       "44                 0.0        96.0               NaN             1.0   \n",
       "45                 0.0        88.0               NaN             1.0   \n",
       "73                 0.0        95.0               NaN             0.0   \n",
       "112             4114.0       152.0               NaN             0.0   \n",
       "165             3166.0       182.0               NaN             1.0   \n",
       "197             2365.0       120.0               NaN             1.0   \n",
       "223             1010.0       175.0               NaN             1.0   \n",
       "232             2598.0       120.0               NaN             1.0   \n",
       "335             4490.0        70.0               NaN             1.0   \n",
       "367                0.0       124.0               NaN             0.0   \n",
       "421                0.0        80.0               NaN             0.0   \n",
       "423             1667.0       110.0               NaN             0.0   \n",
       "\n",
       "    Property_Area Loan_Status  \n",
       "19          Urban           Y  \n",
       "36          Urban           N  \n",
       "44          Urban           Y  \n",
       "45          Urban           Y  \n",
       "73      Semiurban           N  \n",
       "112         Rural           N  \n",
       "165         Rural           Y  \n",
       "197         Urban           Y  \n",
       "223     Semiurban           Y  \n",
       "232         Rural           Y  \n",
       "335     Semiurban           Y  \n",
       "367         Rural           N  \n",
       "421         Urban           N  \n",
       "423         Urban           N  "
      ]
     },
     "execution_count": 240,
     "metadata": {},
     "output_type": "execute_result"
    }
   ],
   "source": [
    "data_set[data_set['Loan_Amount_Term'].isnull()].head(20)\n"
   ]
  },
  {
   "cell_type": "markdown",
   "id": "25af299b",
   "metadata": {},
   "source": [
    "#### I don't see any correlation between the Loan_Amount_Term as Null with other columns, hence replacing it with Mode"
   ]
  },
  {
   "cell_type": "code",
   "execution_count": 241,
   "id": "8fe19e43",
   "metadata": {},
   "outputs": [
    {
     "name": "stdout",
     "output_type": "stream",
     "text": [
      "\n",
      "**Loan_Amount_Term**\n",
      "360.0    526\n",
      "180.0     44\n",
      "480.0     15\n",
      "300.0     13\n",
      "240.0      4\n",
      "84.0       4\n",
      "120.0      3\n",
      "60.0       2\n",
      "36.0       2\n",
      "12.0       1\n",
      "Name: Loan_Amount_Term, dtype: int64\n"
     ]
    }
   ],
   "source": [
    "fill_na_with_mode('Loan_Amount_Term')"
   ]
  },
  {
   "cell_type": "code",
   "execution_count": 242,
   "id": "7c17b788",
   "metadata": {},
   "outputs": [
    {
     "name": "stdout",
     "output_type": "stream",
     "text": [
      "null value: 0\n"
     ]
    }
   ],
   "source": [
    "fill_na_with_mean('LoanAmount')"
   ]
  },
  {
   "cell_type": "code",
   "execution_count": 243,
   "id": "b5f053ab",
   "metadata": {},
   "outputs": [
    {
     "data": {
      "text/plain": [
       "Gender               0\n",
       "Married              0\n",
       "Dependents           0\n",
       "Education            0\n",
       "Self_Employed        0\n",
       "ApplicantIncome      0\n",
       "CoapplicantIncome    0\n",
       "LoanAmount           0\n",
       "Loan_Amount_Term     0\n",
       "Credit_History       0\n",
       "Property_Area        0\n",
       "Loan_Status          0\n",
       "dtype: int64"
      ]
     },
     "execution_count": 243,
     "metadata": {},
     "output_type": "execute_result"
    }
   ],
   "source": [
    "data_set.isnull().sum()"
   ]
  },
  {
   "cell_type": "markdown",
   "id": "f2dfd66f",
   "metadata": {},
   "source": [
    "####  We have now handled the missing values. \n",
    "#### Next step - is to understand the corealtion between the columns. "
   ]
  },
  {
   "cell_type": "markdown",
   "id": "d9422d2e",
   "metadata": {},
   "source": [
    "### Steps before finding the correlations, handle the categorical columns. "
   ]
  },
  {
   "cell_type": "code",
   "execution_count": 244,
   "id": "a9c14b15",
   "metadata": {},
   "outputs": [],
   "source": [
    "def find_uniquevalue_count(df, column):\n",
    "   print(\"***\", column, df[column].unique())\n"
   ]
  },
  {
   "cell_type": "code",
   "execution_count": 245,
   "id": "4f8ec227",
   "metadata": {},
   "outputs": [
    {
     "name": "stdout",
     "output_type": "stream",
     "text": [
      "*** Gender ['Male' 'Female']\n",
      "*** Married ['No' 'Yes']\n",
      "*** Dependents ['0' '1' '2' '3+']\n",
      "*** Education ['Graduate' 'Not Graduate']\n",
      "*** Self_Employed ['No' 'Yes']\n",
      "*** Credit_History [1. 0.]\n",
      "*** Loan_Status ['Y' 'N']\n",
      "*** Property_Area ['Urban' 'Rural' 'Semiurban']\n"
     ]
    }
   ],
   "source": [
    "find_uniquevalue_count(data_set, 'Gender')\n",
    "find_uniquevalue_count(data_set, 'Married')\n",
    "find_uniquevalue_count(data_set, 'Dependents')\n",
    "find_uniquevalue_count(data_set, 'Education')\n",
    "find_uniquevalue_count(data_set, 'Self_Employed')\n",
    "find_uniquevalue_count(data_set, 'Credit_History')\n",
    "find_uniquevalue_count(data_set, 'Loan_Status')\n",
    "find_uniquevalue_count(data_set, 'Property_Area')\n"
   ]
  },
  {
   "cell_type": "code",
   "execution_count": 246,
   "id": "e444c1e3",
   "metadata": {},
   "outputs": [],
   "source": [
    "data_set['Dependents'] = data_set['Dependents'].replace(to_replace ='3+', value = 3)\n"
   ]
  },
  {
   "cell_type": "code",
   "execution_count": 247,
   "id": "5800d022",
   "metadata": {},
   "outputs": [],
   "source": [
    "data_set['Gender'] = data_set['Gender'].map({'Male':1, 'Female':0}).astype(int)\n",
    "data_set['Married'] = data_set['Married'].map({'No':0, 'Yes':1}).astype(int)\n",
    "data_set['Dependents'] = data_set['Dependents'].map({'0':0, '1':1, '2':2, 3:3}).astype(int)\n",
    "data_set['Education'] = data_set['Education'].map({'Graduate':0, 'Not Graduate':1}).astype(int)\n",
    "data_set['Self_Employed'] = data_set['Self_Employed'].map({'No':0, 'Yes':1}).astype(int)\n",
    "data_set['Credit_History'] = data_set['Credit_History'].map({0.:0, 1.:1}).astype(int)\n",
    "data_set['Loan_Status'] = data_set['Loan_Status'].map({'N':0, 'Y':1}).astype(int)\n",
    "data_set['Property_Area'] = data_set['Property_Area'].map({'Urban':0, 'Rural':1, 'Semiurban':2}).astype(int)\n"
   ]
  },
  {
   "cell_type": "code",
   "execution_count": 248,
   "id": "1f50a7ec",
   "metadata": {
    "scrolled": true
   },
   "outputs": [
    {
     "data": {
      "text/html": [
       "<div>\n",
       "<style scoped>\n",
       "    .dataframe tbody tr th:only-of-type {\n",
       "        vertical-align: middle;\n",
       "    }\n",
       "\n",
       "    .dataframe tbody tr th {\n",
       "        vertical-align: top;\n",
       "    }\n",
       "\n",
       "    .dataframe thead th {\n",
       "        text-align: right;\n",
       "    }\n",
       "</style>\n",
       "<table border=\"1\" class=\"dataframe\">\n",
       "  <thead>\n",
       "    <tr style=\"text-align: right;\">\n",
       "      <th></th>\n",
       "      <th>Gender</th>\n",
       "      <th>Married</th>\n",
       "      <th>Dependents</th>\n",
       "      <th>Education</th>\n",
       "      <th>Self_Employed</th>\n",
       "      <th>ApplicantIncome</th>\n",
       "      <th>CoapplicantIncome</th>\n",
       "      <th>LoanAmount</th>\n",
       "      <th>Loan_Amount_Term</th>\n",
       "      <th>Credit_History</th>\n",
       "      <th>Property_Area</th>\n",
       "      <th>Loan_Status</th>\n",
       "    </tr>\n",
       "  </thead>\n",
       "  <tbody>\n",
       "    <tr>\n",
       "      <th>Gender</th>\n",
       "      <td>1.000000</td>\n",
       "      <td>0.364569</td>\n",
       "      <td>0.172914</td>\n",
       "      <td>0.045364</td>\n",
       "      <td>-0.000525</td>\n",
       "      <td>0.058809</td>\n",
       "      <td>0.082912</td>\n",
       "      <td>0.107930</td>\n",
       "      <td>-0.074030</td>\n",
       "      <td>0.009170</td>\n",
       "      <td>-0.082045</td>\n",
       "      <td>0.017987</td>\n",
       "    </tr>\n",
       "    <tr>\n",
       "      <th>Married</th>\n",
       "      <td>0.364569</td>\n",
       "      <td>1.000000</td>\n",
       "      <td>0.334216</td>\n",
       "      <td>0.012304</td>\n",
       "      <td>0.004489</td>\n",
       "      <td>0.051708</td>\n",
       "      <td>0.075948</td>\n",
       "      <td>0.147141</td>\n",
       "      <td>-0.100912</td>\n",
       "      <td>0.010938</td>\n",
       "      <td>0.003071</td>\n",
       "      <td>0.091478</td>\n",
       "    </tr>\n",
       "    <tr>\n",
       "      <th>Dependents</th>\n",
       "      <td>0.172914</td>\n",
       "      <td>0.334216</td>\n",
       "      <td>1.000000</td>\n",
       "      <td>0.055752</td>\n",
       "      <td>0.056798</td>\n",
       "      <td>0.118202</td>\n",
       "      <td>0.030430</td>\n",
       "      <td>0.163106</td>\n",
       "      <td>-0.103864</td>\n",
       "      <td>-0.040160</td>\n",
       "      <td>0.001781</td>\n",
       "      <td>0.010118</td>\n",
       "    </tr>\n",
       "    <tr>\n",
       "      <th>Education</th>\n",
       "      <td>0.045364</td>\n",
       "      <td>0.012304</td>\n",
       "      <td>0.055752</td>\n",
       "      <td>1.000000</td>\n",
       "      <td>-0.010383</td>\n",
       "      <td>-0.140760</td>\n",
       "      <td>-0.062290</td>\n",
       "      <td>-0.166998</td>\n",
       "      <td>-0.073928</td>\n",
       "      <td>-0.073658</td>\n",
       "      <td>-0.003592</td>\n",
       "      <td>-0.085884</td>\n",
       "    </tr>\n",
       "    <tr>\n",
       "      <th>Self_Employed</th>\n",
       "      <td>-0.000525</td>\n",
       "      <td>0.004489</td>\n",
       "      <td>0.056798</td>\n",
       "      <td>-0.010383</td>\n",
       "      <td>1.000000</td>\n",
       "      <td>0.127180</td>\n",
       "      <td>-0.016100</td>\n",
       "      <td>0.115260</td>\n",
       "      <td>-0.033739</td>\n",
       "      <td>-0.001550</td>\n",
       "      <td>0.021996</td>\n",
       "      <td>-0.003700</td>\n",
       "    </tr>\n",
       "    <tr>\n",
       "      <th>ApplicantIncome</th>\n",
       "      <td>0.058809</td>\n",
       "      <td>0.051708</td>\n",
       "      <td>0.118202</td>\n",
       "      <td>-0.140760</td>\n",
       "      <td>0.127180</td>\n",
       "      <td>1.000000</td>\n",
       "      <td>-0.116605</td>\n",
       "      <td>0.565620</td>\n",
       "      <td>-0.046531</td>\n",
       "      <td>-0.018615</td>\n",
       "      <td>-0.007894</td>\n",
       "      <td>-0.004710</td>\n",
       "    </tr>\n",
       "    <tr>\n",
       "      <th>CoapplicantIncome</th>\n",
       "      <td>0.082912</td>\n",
       "      <td>0.075948</td>\n",
       "      <td>0.030430</td>\n",
       "      <td>-0.062290</td>\n",
       "      <td>-0.016100</td>\n",
       "      <td>-0.116605</td>\n",
       "      <td>1.000000</td>\n",
       "      <td>0.187828</td>\n",
       "      <td>-0.059383</td>\n",
       "      <td>0.011134</td>\n",
       "      <td>-0.028356</td>\n",
       "      <td>-0.059187</td>\n",
       "    </tr>\n",
       "    <tr>\n",
       "      <th>LoanAmount</th>\n",
       "      <td>0.107930</td>\n",
       "      <td>0.147141</td>\n",
       "      <td>0.163106</td>\n",
       "      <td>-0.166998</td>\n",
       "      <td>0.115260</td>\n",
       "      <td>0.565620</td>\n",
       "      <td>0.187828</td>\n",
       "      <td>1.000000</td>\n",
       "      <td>0.036475</td>\n",
       "      <td>-0.001431</td>\n",
       "      <td>0.013799</td>\n",
       "      <td>-0.036416</td>\n",
       "    </tr>\n",
       "    <tr>\n",
       "      <th>Loan_Amount_Term</th>\n",
       "      <td>-0.074030</td>\n",
       "      <td>-0.100912</td>\n",
       "      <td>-0.103864</td>\n",
       "      <td>-0.073928</td>\n",
       "      <td>-0.033739</td>\n",
       "      <td>-0.046531</td>\n",
       "      <td>-0.059383</td>\n",
       "      <td>0.036475</td>\n",
       "      <td>1.000000</td>\n",
       "      <td>-0.004705</td>\n",
       "      <td>0.086879</td>\n",
       "      <td>-0.022549</td>\n",
       "    </tr>\n",
       "    <tr>\n",
       "      <th>Credit_History</th>\n",
       "      <td>0.009170</td>\n",
       "      <td>0.010938</td>\n",
       "      <td>-0.040160</td>\n",
       "      <td>-0.073658</td>\n",
       "      <td>-0.001550</td>\n",
       "      <td>-0.018615</td>\n",
       "      <td>0.011134</td>\n",
       "      <td>-0.001431</td>\n",
       "      <td>-0.004705</td>\n",
       "      <td>1.000000</td>\n",
       "      <td>0.030248</td>\n",
       "      <td>0.540556</td>\n",
       "    </tr>\n",
       "    <tr>\n",
       "      <th>Property_Area</th>\n",
       "      <td>-0.082045</td>\n",
       "      <td>0.003071</td>\n",
       "      <td>0.001781</td>\n",
       "      <td>-0.003592</td>\n",
       "      <td>0.021996</td>\n",
       "      <td>-0.007894</td>\n",
       "      <td>-0.028356</td>\n",
       "      <td>0.013799</td>\n",
       "      <td>0.086879</td>\n",
       "      <td>0.030248</td>\n",
       "      <td>1.000000</td>\n",
       "      <td>0.103253</td>\n",
       "    </tr>\n",
       "    <tr>\n",
       "      <th>Loan_Status</th>\n",
       "      <td>0.017987</td>\n",
       "      <td>0.091478</td>\n",
       "      <td>0.010118</td>\n",
       "      <td>-0.085884</td>\n",
       "      <td>-0.003700</td>\n",
       "      <td>-0.004710</td>\n",
       "      <td>-0.059187</td>\n",
       "      <td>-0.036416</td>\n",
       "      <td>-0.022549</td>\n",
       "      <td>0.540556</td>\n",
       "      <td>0.103253</td>\n",
       "      <td>1.000000</td>\n",
       "    </tr>\n",
       "  </tbody>\n",
       "</table>\n",
       "</div>"
      ],
      "text/plain": [
       "                     Gender   Married  Dependents  Education  Self_Employed  \\\n",
       "Gender             1.000000  0.364569    0.172914   0.045364      -0.000525   \n",
       "Married            0.364569  1.000000    0.334216   0.012304       0.004489   \n",
       "Dependents         0.172914  0.334216    1.000000   0.055752       0.056798   \n",
       "Education          0.045364  0.012304    0.055752   1.000000      -0.010383   \n",
       "Self_Employed     -0.000525  0.004489    0.056798  -0.010383       1.000000   \n",
       "ApplicantIncome    0.058809  0.051708    0.118202  -0.140760       0.127180   \n",
       "CoapplicantIncome  0.082912  0.075948    0.030430  -0.062290      -0.016100   \n",
       "LoanAmount         0.107930  0.147141    0.163106  -0.166998       0.115260   \n",
       "Loan_Amount_Term  -0.074030 -0.100912   -0.103864  -0.073928      -0.033739   \n",
       "Credit_History     0.009170  0.010938   -0.040160  -0.073658      -0.001550   \n",
       "Property_Area     -0.082045  0.003071    0.001781  -0.003592       0.021996   \n",
       "Loan_Status        0.017987  0.091478    0.010118  -0.085884      -0.003700   \n",
       "\n",
       "                   ApplicantIncome  CoapplicantIncome  LoanAmount  \\\n",
       "Gender                    0.058809           0.082912    0.107930   \n",
       "Married                   0.051708           0.075948    0.147141   \n",
       "Dependents                0.118202           0.030430    0.163106   \n",
       "Education                -0.140760          -0.062290   -0.166998   \n",
       "Self_Employed             0.127180          -0.016100    0.115260   \n",
       "ApplicantIncome           1.000000          -0.116605    0.565620   \n",
       "CoapplicantIncome        -0.116605           1.000000    0.187828   \n",
       "LoanAmount                0.565620           0.187828    1.000000   \n",
       "Loan_Amount_Term         -0.046531          -0.059383    0.036475   \n",
       "Credit_History           -0.018615           0.011134   -0.001431   \n",
       "Property_Area            -0.007894          -0.028356    0.013799   \n",
       "Loan_Status              -0.004710          -0.059187   -0.036416   \n",
       "\n",
       "                   Loan_Amount_Term  Credit_History  Property_Area  \\\n",
       "Gender                    -0.074030        0.009170      -0.082045   \n",
       "Married                   -0.100912        0.010938       0.003071   \n",
       "Dependents                -0.103864       -0.040160       0.001781   \n",
       "Education                 -0.073928       -0.073658      -0.003592   \n",
       "Self_Employed             -0.033739       -0.001550       0.021996   \n",
       "ApplicantIncome           -0.046531       -0.018615      -0.007894   \n",
       "CoapplicantIncome         -0.059383        0.011134      -0.028356   \n",
       "LoanAmount                 0.036475       -0.001431       0.013799   \n",
       "Loan_Amount_Term           1.000000       -0.004705       0.086879   \n",
       "Credit_History            -0.004705        1.000000       0.030248   \n",
       "Property_Area              0.086879        0.030248       1.000000   \n",
       "Loan_Status               -0.022549        0.540556       0.103253   \n",
       "\n",
       "                   Loan_Status  \n",
       "Gender                0.017987  \n",
       "Married               0.091478  \n",
       "Dependents            0.010118  \n",
       "Education            -0.085884  \n",
       "Self_Employed        -0.003700  \n",
       "ApplicantIncome      -0.004710  \n",
       "CoapplicantIncome    -0.059187  \n",
       "LoanAmount           -0.036416  \n",
       "Loan_Amount_Term     -0.022549  \n",
       "Credit_History        0.540556  \n",
       "Property_Area         0.103253  \n",
       "Loan_Status           1.000000  "
      ]
     },
     "execution_count": 248,
     "metadata": {},
     "output_type": "execute_result"
    }
   ],
   "source": [
    "import seaborn as sns"
    "# Calculate the correlation matrix"
    "correlation_matrix = data_set.corr()"

    "# Create the heatmap"
    "plt.figure(figsize = (10,8))"
    "sns.heatmap(correlation_matrix, cmap = 'coolwarm')"
    "plt.show()"
   ]
  },
  {
   "cell_type": "markdown",
   "id": "8752be9d",
   "metadata": {},
   "source": [
    "### Separate dependent and independent features"
   ]
  },
  {
   "cell_type": "code",
   "execution_count": 249,
   "id": "b43e2838",
   "metadata": {},
   "outputs": [],
   "source": [
    "X = data_set.drop('Loan_Status', axis=1)\n",
    "Y = data_set['Loan_Status']"
   ]
  },
  {
   "cell_type": "markdown",
   "id": "a8b71214",
   "metadata": {},
   "source": [
    "### Split training and test data"
   ]
  },
  {
   "cell_type": "code",
   "execution_count": 250,
   "id": "2424db15",
   "metadata": {},
   "outputs": [],
   "source": [
    "from sklearn.model_selection import train_test_split\n",
    "\n",
    "X_train, X_test, y_train, y_test = train_test_split(X, Y, train_size=0.20, random_state=42)"
   ]
  },
  {
   "cell_type": "code",
   "execution_count": null,
   "id": "442ef015",
   "metadata": {},
   "outputs": [],
   "source": []
  },
  {
   "cell_type": "markdown",
   "id": "0afa26be",
   "metadata": {},
   "source": [
    "### Feature scaling for columns which are not in same range "
   ]
  },
  {
   "cell_type": "code",
   "execution_count": 251,
   "id": "213b2c8c",
   "metadata": {},
   "outputs": [
    {
     "data": {
      "text/html": [
       "<div>\n",
       "<style scoped>\n",
       "    .dataframe tbody tr th:only-of-type {\n",
       "        vertical-align: middle;\n",
       "    }\n",
       "\n",
       "    .dataframe tbody tr th {\n",
       "        vertical-align: top;\n",
       "    }\n",
       "\n",
       "    .dataframe thead th {\n",
       "        text-align: right;\n",
       "    }\n",
       "</style>\n",
       "<table border=\"1\" class=\"dataframe\">\n",
       "  <thead>\n",
       "    <tr style=\"text-align: right;\">\n",
       "      <th></th>\n",
       "      <th>Gender</th>\n",
       "      <th>Married</th>\n",
       "      <th>Dependents</th>\n",
       "      <th>Education</th>\n",
       "      <th>Self_Employed</th>\n",
       "      <th>ApplicantIncome</th>\n",
       "      <th>CoapplicantIncome</th>\n",
       "      <th>LoanAmount</th>\n",
       "      <th>Loan_Amount_Term</th>\n",
       "      <th>Credit_History</th>\n",
       "      <th>Property_Area</th>\n",
       "      <th>Loan_Status</th>\n",
       "    </tr>\n",
       "  </thead>\n",
       "  <tbody>\n",
       "    <tr>\n",
       "      <th>0</th>\n",
       "      <td>1</td>\n",
       "      <td>0</td>\n",
       "      <td>0</td>\n",
       "      <td>0</td>\n",
       "      <td>0</td>\n",
       "      <td>5849</td>\n",
       "      <td>0.0</td>\n",
       "      <td>146.412162</td>\n",
       "      <td>360.0</td>\n",
       "      <td>1</td>\n",
       "      <td>0</td>\n",
       "      <td>1</td>\n",
       "    </tr>\n",
       "    <tr>\n",
       "      <th>1</th>\n",
       "      <td>1</td>\n",
       "      <td>1</td>\n",
       "      <td>1</td>\n",
       "      <td>0</td>\n",
       "      <td>0</td>\n",
       "      <td>4583</td>\n",
       "      <td>1508.0</td>\n",
       "      <td>128.000000</td>\n",
       "      <td>360.0</td>\n",
       "      <td>1</td>\n",
       "      <td>1</td>\n",
       "      <td>0</td>\n",
       "    </tr>\n",
       "    <tr>\n",
       "      <th>2</th>\n",
       "      <td>1</td>\n",
       "      <td>1</td>\n",
       "      <td>0</td>\n",
       "      <td>0</td>\n",
       "      <td>1</td>\n",
       "      <td>3000</td>\n",
       "      <td>0.0</td>\n",
       "      <td>66.000000</td>\n",
       "      <td>360.0</td>\n",
       "      <td>1</td>\n",
       "      <td>0</td>\n",
       "      <td>1</td>\n",
       "    </tr>\n",
       "    <tr>\n",
       "      <th>3</th>\n",
       "      <td>1</td>\n",
       "      <td>1</td>\n",
       "      <td>0</td>\n",
       "      <td>1</td>\n",
       "      <td>0</td>\n",
       "      <td>2583</td>\n",
       "      <td>2358.0</td>\n",
       "      <td>120.000000</td>\n",
       "      <td>360.0</td>\n",
       "      <td>1</td>\n",
       "      <td>0</td>\n",
       "      <td>1</td>\n",
       "    </tr>\n",
       "    <tr>\n",
       "      <th>4</th>\n",
       "      <td>1</td>\n",
       "      <td>0</td>\n",
       "      <td>0</td>\n",
       "      <td>0</td>\n",
       "      <td>0</td>\n",
       "      <td>6000</td>\n",
       "      <td>0.0</td>\n",
       "      <td>141.000000</td>\n",
       "      <td>360.0</td>\n",
       "      <td>1</td>\n",
       "      <td>0</td>\n",
       "      <td>1</td>\n",
       "    </tr>\n",
       "  </tbody>\n",
       "</table>\n",
       "</div>"
      ],
      "text/plain": [
       "   Gender  Married  Dependents  Education  Self_Employed  ApplicantIncome  \\\n",
       "0       1        0           0          0              0             5849   \n",
       "1       1        1           1          0              0             4583   \n",
       "2       1        1           0          0              1             3000   \n",
       "3       1        1           0          1              0             2583   \n",
       "4       1        0           0          0              0             6000   \n",
       "\n",
       "   CoapplicantIncome  LoanAmount  Loan_Amount_Term  Credit_History  \\\n",
       "0                0.0  146.412162             360.0               1   \n",
       "1             1508.0  128.000000             360.0               1   \n",
       "2                0.0   66.000000             360.0               1   \n",
       "3             2358.0  120.000000             360.0               1   \n",
       "4                0.0  141.000000             360.0               1   \n",
       "\n",
       "   Property_Area  Loan_Status  \n",
       "0              0            1  \n",
       "1              1            0  \n",
       "2              0            1  \n",
       "3              0            1  \n",
       "4              0            1  "
      ]
     },
     "execution_count": 251,
     "metadata": {},
     "output_type": "execute_result"
    }
   ],
   "source": [
    "data_set.head(5)"
   ]
  },
  {
   "cell_type": "code",
   "execution_count": 252,
   "id": "960fcc7d",
   "metadata": {},
   "outputs": [],
   "source": [
    "columns_to_fscale = ['ApplicantIncome', 'CoapplicantIncome', 'LoanAmount', 'Loan_Amount_Term']"
   ]
  },
  {
   "cell_type": "code",
   "execution_count": 253,
   "id": "54d9961e",
   "metadata": {},
   "outputs": [],
   "source": [
    "from sklearn.preprocessing import StandardScaler\n",
    "st = StandardScaler()\n",
    "X[columns_to_fscale]=st.fit_transform(X[columns_to_fscale])\n",
    "X_train[columns_to_fscale] = st.fit_transform(X_train[columns_to_fscale])\n",
    "X_test[columns_to_fscale] = st.fit_transform(X_test[columns_to_fscale])"
   ]
  },
  {
   "cell_type": "code",
   "execution_count": 254,
   "id": "7e14043f",
   "metadata": {},
   "outputs": [
    {
     "data": {
      "text/html": [
       "<div>\n",
       "<style scoped>\n",
       "    .dataframe tbody tr th:only-of-type {\n",
       "        vertical-align: middle;\n",
       "    }\n",
       "\n",
       "    .dataframe tbody tr th {\n",
       "        vertical-align: top;\n",
       "    }\n",
       "\n",
       "    .dataframe thead th {\n",
       "        text-align: right;\n",
       "    }\n",
       "</style>\n",
       "<table border=\"1\" class=\"dataframe\">\n",
       "  <thead>\n",
       "    <tr style=\"text-align: right;\">\n",
       "      <th></th>\n",
       "      <th>Gender</th>\n",
       "      <th>Married</th>\n",
       "      <th>Dependents</th>\n",
       "      <th>Education</th>\n",
       "      <th>Self_Employed</th>\n",
       "      <th>ApplicantIncome</th>\n",
       "      <th>CoapplicantIncome</th>\n",
       "      <th>LoanAmount</th>\n",
       "      <th>Loan_Amount_Term</th>\n",
       "      <th>Credit_History</th>\n",
       "      <th>Property_Area</th>\n",
       "    </tr>\n",
       "  </thead>\n",
       "  <tbody>\n",
       "    <tr>\n",
       "      <th>397</th>\n",
       "      <td>1</td>\n",
       "      <td>1</td>\n",
       "      <td>0</td>\n",
       "      <td>0</td>\n",
       "      <td>0</td>\n",
       "      <td>-0.469608</td>\n",
       "      <td>0.132622</td>\n",
       "      <td>-0.593655</td>\n",
       "      <td>0.352049</td>\n",
       "      <td>1</td>\n",
       "      <td>0</td>\n",
       "    </tr>\n",
       "    <tr>\n",
       "      <th>254</th>\n",
       "      <td>1</td>\n",
       "      <td>0</td>\n",
       "      <td>0</td>\n",
       "      <td>0</td>\n",
       "      <td>1</td>\n",
       "      <td>1.926222</td>\n",
       "      <td>-0.815164</td>\n",
       "      <td>0.421235</td>\n",
       "      <td>0.352049</td>\n",
       "      <td>0</td>\n",
       "      <td>0</td>\n",
       "    </tr>\n",
       "    <tr>\n",
       "      <th>217</th>\n",
       "      <td>1</td>\n",
       "      <td>1</td>\n",
       "      <td>0</td>\n",
       "      <td>0</td>\n",
       "      <td>0</td>\n",
       "      <td>-0.343808</td>\n",
       "      <td>0.337900</td>\n",
       "      <td>-0.216994</td>\n",
       "      <td>0.352049</td>\n",
       "      <td>1</td>\n",
       "      <td>2</td>\n",
       "    </tr>\n",
       "    <tr>\n",
       "      <th>4</th>\n",
       "      <td>1</td>\n",
       "      <td>0</td>\n",
       "      <td>0</td>\n",
       "      <td>0</td>\n",
       "      <td>0</td>\n",
       "      <td>0.068217</td>\n",
       "      <td>-0.815164</td>\n",
       "      <td>-0.112367</td>\n",
       "      <td>0.352049</td>\n",
       "      <td>1</td>\n",
       "      <td>0</td>\n",
       "    </tr>\n",
       "    <tr>\n",
       "      <th>256</th>\n",
       "      <td>1</td>\n",
       "      <td>0</td>\n",
       "      <td>0</td>\n",
       "      <td>1</td>\n",
       "      <td>0</td>\n",
       "      <td>0.076374</td>\n",
       "      <td>-0.815164</td>\n",
       "      <td>-0.384399</td>\n",
       "      <td>0.352049</td>\n",
       "      <td>0</td>\n",
       "      <td>1</td>\n",
       "    </tr>\n",
       "  </tbody>\n",
       "</table>\n",
       "</div>"
      ],
      "text/plain": [
       "     Gender  Married  Dependents  Education  Self_Employed  ApplicantIncome  \\\n",
       "397       1        1           0          0              0        -0.469608   \n",
       "254       1        0           0          0              1         1.926222   \n",
       "217       1        1           0          0              0        -0.343808   \n",
       "4         1        0           0          0              0         0.068217   \n",
       "256       1        0           0          1              0         0.076374   \n",
       "\n",
       "     CoapplicantIncome  LoanAmount  Loan_Amount_Term  Credit_History  \\\n",
       "397           0.132622   -0.593655          0.352049               1   \n",
       "254          -0.815164    0.421235          0.352049               0   \n",
       "217           0.337900   -0.216994          0.352049               1   \n",
       "4            -0.815164   -0.112367          0.352049               1   \n",
       "256          -0.815164   -0.384399          0.352049               0   \n",
       "\n",
       "     Property_Area  \n",
       "397              0  \n",
       "254              0  \n",
       "217              2  \n",
       "4                0  \n",
       "256              1  "
      ]
     },
     "execution_count": 254,
     "metadata": {},
     "output_type": "execute_result"
    }
   ],
   "source": [
    "X_train.head(5)"
   ]
  },
  {
   "cell_type": "markdown",
   "id": "8a6853d0",
   "metadata": {},
   "source": [
    "### Train models and find the accuracy of the prediction "
   ]
  },
  {
   "cell_type": "code",
   "execution_count": 268,
   "id": "8ede2361",
   "metadata": {},
   "outputs": [],
   "source": [
    "# We write a function to call different models and check the score\n",
    "\n",
    "from sklearn.metrics import accuracy_score\n",
    "from sklearn.model_selection import cross_val_score\n",
    "import numpy as np\n",
    "\n",
    "model_df = {}\n",
    "def train_model(model, X_train, X_test, y_train, y_test):\n",
    "    model.fit(X_train, y_train)\n",
    "    y_pred = model.predict(X_test)\n",
    "    print(f\"{model} accuracy is {accuracy_score(y_test, y_pred)}\")\n",
    "    \n",
    "def crossval_score(model, X, Y):\n",
    "    score = cross_val_score(model,X,Y,cv=5)\n",
    "    print(f\"{model} cv score is {np.mean(score)}\")\n",
    "    "
   ]
  },
  {
   "cell_type": "code",
   "execution_count": 269,
   "id": "88c1149b",
   "metadata": {},
   "outputs": [],
   "source": [
    "# Beacause the dependent feature (Loan_Status) is Binary value, we will perform classification models "
   ]
  },
  {
   "cell_type": "code",
   "execution_count": 272,
   "id": "97b12a0a",
   "metadata": {},
   "outputs": [
    {
     "name": "stdout",
     "output_type": "stream",
     "text": [
      "LogisticRegression() accuracy is 0.766260162601626\n",
      "LogisticRegression() cv score is 0.8078368652538984\n"
     ]
    }
   ],
   "source": [
    "# LogisticRegression\n",
    "\n",
    "from sklearn.linear_model import LogisticRegression\n",
    "lr = LogisticRegression()\n",
    "train_model(lr, X_train, X_test, y_train, y_test)\n",
    "crossval_score(lr, X, Y)"
   ]
  },
  {
   "cell_type": "code",
   "execution_count": 273,
   "id": "251abe72",
   "metadata": {},
   "outputs": [
    {
     "name": "stdout",
     "output_type": "stream",
     "text": [
      "SVC() accuracy is 0.7784552845528455\n",
      "SVC() cv score is 0.7964147674263627\n"
     ]
    }
   ],
   "source": [
    "# SVC\n",
    "\n",
    "from sklearn import svm\n",
    "svc = svm.SVC()\n",
    "train_model(svc, X_train, X_test, y_train, y_test)\n",
    "crossval_score(svc, X, Y)\n"
   ]
  },
  {
   "cell_type": "code",
   "execution_count": 274,
   "id": "173a33df",
   "metadata": {},
   "outputs": [
    {
     "name": "stdout",
     "output_type": "stream",
     "text": [
      "DecisionTreeClassifier() accuracy is 0.7113821138211383\n",
      "DecisionTreeClassifier() cv score is 0.7052778888444622\n"
     ]
    }
   ],
   "source": [
    "# Decision Tree Classifier \n",
    "\n",
    "from sklearn.tree import DecisionTreeClassifier\n",
    "dtc = DecisionTreeClassifier()\n",
    "train_model(dtc, X_train, X_test, y_train, y_test)\n",
    "crossval_score(dtc, X, Y)"
   ]
  },
  {
   "cell_type": "code",
   "execution_count": 275,
   "id": "9fb592e6",
   "metadata": {},
   "outputs": [
    {
     "name": "stdout",
     "output_type": "stream",
     "text": [
      "RandomForestClassifier() accuracy is 0.782520325203252\n",
      "RandomForestClassifier() cv score is 0.7817672930827669\n"
     ]
    }
   ],
   "source": [
    "# Random Forest Classifier \n",
    "\n",
    "from sklearn.ensemble import RandomForestClassifier\n",
    "rfc = RandomForestClassifier() \n",
    "train_model(rfc, X_train, X_test, y_train, y_test)\n",
    "crossval_score(rfc, X, Y)"
   ]
  },
  {
   "cell_type": "code",
   "execution_count": 276,
   "id": "30149d31",
   "metadata": {},
   "outputs": [
    {
     "name": "stdout",
     "output_type": "stream",
     "text": [
      "RandomForestClassifier() accuracy is 0.7967479674796748\n",
      "RandomForestClassifier() cv score is 0.7882980141276821\n"
     ]
    }
   ],
   "source": [
    "# Gradient Boost\n",
    "\n",
    "from sklearn.ensemble import GradientBoostingClassifier\n",
    "gbc = GradientBoostingClassifier()\n",
    "train_model(rfc, X_train, X_test, y_train, y_test)\n",
    "crossval_score(rfc, X, Y)"
   ]
  },
  {
   "cell_type": "code",
   "execution_count": null,
   "id": "1e1c8184",
   "metadata": {},
   "outputs": [],
   "source": []
  }
 ],
 "metadata": {
  "kernelspec": {
   "display_name": "Python 3 (ipykernel)",
   "language": "python",
   "name": "python3"
  },
  "language_info": {
   "codemirror_mode": {
    "name": "ipython",
    "version": 3
   },
   "file_extension": ".py",
   "mimetype": "text/x-python",
   "name": "python",
   "nbconvert_exporter": "python",
   "pygments_lexer": "ipython3",
   "version": "3.10.9"
  }
 },
 "nbformat": 4,
 "nbformat_minor": 5
}
